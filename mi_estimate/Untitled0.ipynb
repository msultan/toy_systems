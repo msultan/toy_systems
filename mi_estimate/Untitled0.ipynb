{
 "metadata": {
  "name": "Untitled0"
 },
 "nbformat": 3,
 "nbformat_minor": 0,
 "worksheets": [
  {
   "cells": [
    {
     "cell_type": "code",
     "collapsed": false,
     "input": [
      "import numpy as np\n",
      "import numexpr as ne\n",
      "import scipy.special as sps\n",
      "import scipy.stats as scipy\n",
      "from __future__ import division"
     ],
     "language": "python",
     "metadata": {},
     "outputs": [],
     "prompt_number": 1
    },
    {
     "cell_type": "code",
     "collapsed": false,
     "input": [
      "import math\n",
      "\n",
      "def average(x):\n",
      "    assert len(x) > 0\n",
      "    return float(sum(x)) / len(x)\n",
      "\n",
      "def pearson_def(x, y):\n",
      "    assert len(x) == len(y)\n",
      "    n = len(x)\n",
      "    assert n > 0\n",
      "    avg_x = average(x)\n",
      "    avg_y = average(y)\n",
      "    diffprod = 0\n",
      "    xdiff2 = 0\n",
      "    ydiff2 = 0\n",
      "    for idx in range(n):\n",
      "        xdiff = x[idx] - avg_x\n",
      "        ydiff = y[idx] - avg_y\n",
      "        diffprod += xdiff * ydiff\n",
      "        xdiff2 += xdiff * xdiff\n",
      "        ydiff2 += ydiff * ydiff\n",
      "\n",
      "    return diffprod / math.sqrt(xdiff2 * ydiff2)"
     ],
     "language": "python",
     "metadata": {},
     "outputs": [],
     "prompt_number": 2
    },
    {
     "cell_type": "code",
     "collapsed": false,
     "input": [
      "mu=0.5\n",
      "mu2=1.5\n",
      "kappa1=0.25\n",
      "kappa2=0.50\n",
      "\n",
      "dihedral_id1=57.2957795*np.random.vonmises(mu,kappa1,100000)\n",
      "dihedral_id2=57.2957795*np.random.vonmises(mu,kappa2,100000)\n",
      "\n",
      "\n",
      "bin_n=10\n",
      "res_id1_range=[-180,180]\n",
      "res_id2_range=[-180,180]\n",
      "\n",
      "H, xedges, yedges=histogram2d(dihedral_id1,dihedral_id2)\n",
      "\n",
      "imshow(H, interpolation='nearest')\n",
      "colorbar()\n",
      "\n",
      "(joint_pdf_bin_count,id1_bin_edges,id2_bin_edges) = numpy.histogram2d(dihedral_id1[:len(dihedral_id1)],dihedral_id2,bins=bin_n,range=[res_id1_range, res_id2_range],normed=False)\n",
      "dihedral_id1_count=numpy.sum(joint_pdf_bin_count,axis=0)\n",
      "dihedral_id2_count=numpy.sum(joint_pdf_bin_count,axis=1)\n",
      "\n",
      "dx=id1_bin_edges[1]-id1_bin_edges[0]\n",
      "N=len(dihedral_id1)\n",
      "\n",
      "H_x=-numpy.nansum((dihedral_id1_count/N) *numpy.log(dihedral_id1_count/N))+numpy.log(dx)\n",
      "H_y=-numpy.nansum((dihedral_id2_count/N) *numpy.log(dihedral_id2_count/N))+numpy.log(dx)\n",
      "H_x_y=-numpy.nansum((joint_pdf_bin_count/N) *numpy.log(joint_pdf_bin_count/N))+numpy.log(dx*dx)\n",
      "mutual=H_x+H_y-H_x_y\n",
      "\n",
      "p=pearson_def(dihedral_id1,dihedral_id2)\n",
      "H_x_a=numpy.log(2*180*sps.jn(0,kappa1))-kappa1*(sps.jn(1,kappa1)/sps.jn(0,kappa1))\n",
      "H_y_a=numpy.log(2*180*sps.jn(0,kappa2))-kappa2*(sps.jn(1,kappa2)/sps.jn(0,kappa2))\n",
      "H_x_y_a=(0.5*numpy.log(det(cov(dihedral_id1,dihedral_id2))*(2*numpy.pi*numpy.e)**2))\n",
      "mutual_a=numpy.log(numpy.sqrt(1/(1-p)))\n",
      "\n",
      "print \"Variable\",\"*\"*20, \"Calculated\",\"*\"*20,\"Analytical\"\n",
      "print \"H_x\",\"*\"*24,H_x,\"*\"*20,H_x_a\n",
      "print \"H_y\",\"*\"*24,H_y,\"*\"*20,H_y_a\n",
      "print \"H_x_y\",\"*\"*22,H_x_y,\"*\"*20,H_x_y_a\n",
      "print \"mutual\",\"*\"*21,mutual,\"*\"*15,mutual_a"
     ],
     "language": "python",
     "metadata": {},
     "outputs": [
      {
       "output_type": "stream",
       "stream": "stdout",
       "text": [
        "Variable ******************** Calculated ******************** Analytical\n",
        "H_x ************************ 5.82903661256 ******************** 5.83892085762\n",
        "H_y ************************ 5.8709098222 ******************** 5.69352311702\n",
        "H_x_y ********************** 11.6995184902 ******************** 11.8969220744\n",
        "mutual ********************* 0.000427944523462 *************** -0.00143334538517\n"
       ]
      },
      {
       "output_type": "display_data",
       "png": "[encoded data removed]"
      }
     ],
     "prompt_number": 3
    },
    {
     "cell_type": "code",
     "collapsed": false,
     "input": [
      "a=np.random.vonmises?)"
     ],
     "language": "python",
     "metadata": {},
     "outputs": [
      {
       "ename": "SyntaxError",
       "evalue": "invalid syntax (<ipython-input-4-764db2e3647f>, line 1)",
       "output_type": "pyerr",
       "traceback": [
        "\u001b[0;36m  File \u001b[0;32m\"<ipython-input-4-764db2e3647f>\"\u001b[0;36m, line \u001b[0;32m1\u001b[0m\n\u001b[0;31m    a=np.random.vonmises?)\u001b[0m\n\u001b[0m                        ^\u001b[0m\n\u001b[0;31mSyntaxError\u001b[0m\u001b[0;31m:\u001b[0m invalid syntax\n"
       ]
      }
     ],
     "prompt_number": 4
    },
    {
     "cell_type": "code",
     "collapsed": false,
     "input": [
      "mu=0.0\n",
      "sigma=1.0\n",
      "N=10000\n",
      "s=np.random.normal(mu,sigma,N)\n",
      "count, bins, ignored = plt.hist(s, 10, normed=True)\n",
      "\n",
      "plot(bins, 1/(sigma * np.sqrt(2 * np.pi)) *        np.exp( - (bins - mu)**2 / (2 * sigma**2) ),linewidth=2, color='r')\n",
      "a=linspace(0,100,1000)\n",
      "b=linspace(0,100,1000)\n",
      "dx=bins[1]-bins[0]\n",
      "result=0;\n",
      "count = [i for i in count if i > 0]\n",
      "H_x=-numpy.nansum((count/N)*numpy.log(count/N))+numpy.log(dx)\n",
      "\n",
      "print count\n",
      "%%timeit H=ne.evaluate(\"sum((count/N)*log(count/N))\")\n",
      "H=-1*H+np.log(dx)\n",
      "\n",
      "print H,H_x"
     ],
     "language": "python",
     "metadata": {},
     "outputs": []
    },
    {
     "cell_type": "code",
     "collapsed": false,
     "input": [
      "def entropy_count(a,bins):\n",
      "    \n",
      "    count, bins = numpy.histogram(a,bins,normed=False)\n",
      "    dx=bins[1]-bins[0]\n",
      "    H_x=-numpy.nansum(( count/N)*numpy.log( count/N))+numpy.log(dx)\n",
      "    return H_x"
     ],
     "language": "python",
     "metadata": {},
     "outputs": []
    },
    {
     "cell_type": "code",
     "collapsed": false,
     "input": [
      "import scikit.ann"
     ],
     "language": "python",
     "metadata": {},
     "outputs": []
    },
    {
     "cell_type": "code",
     "collapsed": false,
     "input": [
      "def kdistANN(N,ke,data):\n",
      "    ##calculate the distance to the kth neighbor for every pt in the dataset \n",
      "    #using euclidean distances\n",
      "    from scipy import spatial\n",
      "    from scipy.spatial import KDTree\n",
      "    kdist=numpy.zeros(N)\n",
      "    kdTree = spatial.KDTree(data)\n",
      "    for i in range(0,N):\n",
      "        pt=np.array([data[i][0],data[i][1]])\n",
      "        temp=kdTree.query(pt,k=ke+1,eps=0,p=inf)\n",
      "        kdist[i]=temp[0][k]\n",
      "\n",
      "    return kdist\n",
      "\n",
      "def count_dist_x(data,kdist,refPt,N):\n",
      "    #This routine count how many points in the dataset data have \n",
      "    #distance lesser then dist to the point x.\n",
      "    countX=0\n",
      "    countY=0\n",
      "    for i in range(0,N):\n",
      "        dTempX=abs(data[i][0]-refPt[0])\n",
      "        dTempY=abs(data[i][1]-refPt[1])\n",
      "        if(dTempX < kdist):\n",
      "            countX +=1\n",
      "        if(dTempY < kdist):\n",
      "            countY += 1\n",
      "    return countX-1,countY-1\n",
      "\n",
      "\n",
      "def MIstrict(N,k,kdist,data):\n",
      "    import scipy.special\n",
      "\n",
      "    out=np.zeros(N)\n",
      "    #for every pt find its neighbors in x and y regime based on the distance to the\n",
      "    #kth neighbor\n",
      "    for i in range(0,N):\n",
      "        nx,ny=count_dist_x(data,kdist[i],data[i],N)\n",
      "        out[i]=-scipy.special.psi(nx+1)-scipy.special.psi(ny+1)\n",
      "    return out\n",
      "\n",
      "    \n",
      "def mutual_nearest_neighbors(N,k,data):\n",
      "    #make the tree and calculate the distance to the kth neighbor\n",
      "    kdist=kdistANN(N,k,data)\n",
      "    #populate the nx+ny\n",
      "    out=MIstrict(N,k,kdist,data)\n",
      "    return np.mean(out)+scipy.special.psi(N)+scipy.special.psi(k)"
     ],
     "language": "python",
     "metadata": {},
     "outputs": [],
     "prompt_number": 275
    },
    {
     "cell_type": "code",
     "collapsed": false,
     "input": [
      "tN=20\n",
      "tD=np.zeros(tN)\n",
      "for t in range(0,tN):\n",
      "    N=800\n",
      "    k=5\n",
      "    data=np.zeros((N,2))\n",
      "    mean=[3,2]\n",
      "    cov=[[1,0.9],[0.9,1]]\n",
      "    data=np.random.multivariate_normal(mean,cov,N)\n",
      "    mutual=mutual_nearest_neighbors(N,k,data)\n",
      "    tD[t]=mutual\n",
      "     \n",
      "a=linspace(1,1,tN)\n",
      "det=numpy.linalg.det(cov)\n",
      "print -0.5*np.log(det)\n",
      "plot(tD)\n",
      "axhline(-0.5*np.log(det))\n",
      "print \"\\n\\n\"  "
     ],
     "language": "python",
     "metadata": {},
     "outputs": [
      {
       "output_type": "stream",
       "stream": "stdout",
       "text": [
        "0.830365603411\n",
        "\n",
        "\n",
        "\n"
       ]
      },
      {
       "output_type": "display_data",
       "png": "[encoded data removed]"
      }
     ],
     "prompt_number": 278
    },
    {
     "cell_type": "code",
     "collapsed": false,
     "input": [
      "scipy.stats.gam"
     ],
     "language": "python",
     "metadata": {},
     "outputs": [
      {
       "output_type": "stream",
       "stream": "stdout",
       "text": [
        "[ 1.]\n"
       ]
      }
     ],
     "prompt_number": 241
    },
    {
     "cell_type": "code",
     "collapsed": false,
     "input": [
      "from scipy import spatial\n",
      "from scipy.spatial import KDTree\n",
      "wikiData= np.array([(2,3),(5,4), (9,6), (4,7), (8,1), (7,2)])\n",
      "print wikiData\n",
      "tree=spatial.KDTree(wikiData)\n",
      "print tree.query([2,3],p=2,k=1)\n",
      "print 1.4142135623730951"
     ],
     "language": "python",
     "metadata": {},
     "outputs": [
      {
       "output_type": "stream",
       "stream": "stdout",
       "text": [
        "[[2 3]\n",
        " [5 4]\n",
        " [9 6]\n",
        " [4 7]\n",
        " [8 1]\n",
        " [7 2]]\n",
        "(0.0, 0)\n",
        "1.41421356237\n"
       ]
      }
     ],
     "prompt_number": 132
    },
    {
     "cell_type": "code",
     "collapsed": false,
     "input": [
      "scipy.special.psi(100)"
     ],
     "language": "python",
     "metadata": {},
     "outputs": [
      {
       "output_type": "pyout",
       "prompt_number": 216,
       "text": [
        "4.6001618527380881"
       ]
      }
     ],
     "prompt_number": 216
    },
    {
     "cell_type": "code",
     "collapsed": false,
     "input": [
      "import scipy.special\n",
      "z=linspace(1,100,1)\n",
      "y=scipy.special.psi(z)\n",
      "print y\n",
      "plot(y)\n",
      "a=np.array([[3,2],[1,4],[4,5]])\n",
      "a = sorted(a, key=lambda a_entry: a_entry[0]) \n",
      "print a"
     ],
     "language": "python",
     "metadata": {},
     "outputs": [
      {
       "output_type": "stream",
       "stream": "stdout",
       "text": [
        "[-0.57721566]\n",
        "[array([1, 4]), array([3, 2]), array([4, 5])]"
       ]
      },
      {
       "output_type": "stream",
       "stream": "stdout",
       "text": [
        "\n"
       ]
      },
      {
       "output_type": "display_data",
       "png": "[encoded data removed]"
      }
     ],
     "prompt_number": 8
    },
    {
     "cell_type": "code",
     "collapsed": false,
     "input": [
      "from __future__ import division\n",
      "\n",
      "N=10\n",
      "a=numpy.random.standard_normal(N)\n",
      "b=numpy.random.standard_normal(N)\n",
      "\n",
      "H_1=entropy_count(a,15)\n",
      "H_2=mutual_grass(a,b)\n",
      "print H_1,H_2\n",
      "print 0.5*numpy.log(2*pi*numpy.e)"
     ],
     "language": "python",
     "metadata": {},
     "outputs": [
      {
       "ename": "NameError",
       "evalue": "name 'entropy_count' is not defined",
       "output_type": "pyerr",
       "traceback": [
        "\u001b[0;31m---------------------------------------------------------------------------\u001b[0m\n\u001b[0;31mNameError\u001b[0m                                 Traceback (most recent call last)",
        "\u001b[0;32m<ipython-input-9-4409d9c8640d>\u001b[0m in \u001b[0;36m<module>\u001b[0;34m()\u001b[0m\n\u001b[1;32m      5\u001b[0m \u001b[0mb\u001b[0m\u001b[0;34m=\u001b[0m\u001b[0mnumpy\u001b[0m\u001b[0;34m.\u001b[0m\u001b[0mrandom\u001b[0m\u001b[0;34m.\u001b[0m\u001b[0mstandard_normal\u001b[0m\u001b[0;34m(\u001b[0m\u001b[0mN\u001b[0m\u001b[0;34m)\u001b[0m\u001b[0;34m\u001b[0m\u001b[0m\n\u001b[1;32m      6\u001b[0m \u001b[0;34m\u001b[0m\u001b[0m\n\u001b[0;32m----> 7\u001b[0;31m \u001b[0mH_1\u001b[0m\u001b[0;34m=\u001b[0m\u001b[0mentropy_count\u001b[0m\u001b[0;34m(\u001b[0m\u001b[0ma\u001b[0m\u001b[0;34m,\u001b[0m\u001b[0;36m15\u001b[0m\u001b[0;34m)\u001b[0m\u001b[0;34m\u001b[0m\u001b[0m\n\u001b[0m\u001b[1;32m      8\u001b[0m \u001b[0mH_2\u001b[0m\u001b[0;34m=\u001b[0m\u001b[0mmutual_grass\u001b[0m\u001b[0;34m(\u001b[0m\u001b[0ma\u001b[0m\u001b[0;34m,\u001b[0m\u001b[0mb\u001b[0m\u001b[0;34m)\u001b[0m\u001b[0;34m\u001b[0m\u001b[0m\n\u001b[1;32m      9\u001b[0m \u001b[0;32mprint\u001b[0m \u001b[0mH_1\u001b[0m\u001b[0;34m,\u001b[0m\u001b[0mH_2\u001b[0m\u001b[0;34m\u001b[0m\u001b[0m\n",
        "\u001b[0;31mNameError\u001b[0m: name 'entropy_count' is not defined"
       ]
      }
     ],
     "prompt_number": 9
    },
    {
     "cell_type": "code",
     "collapsed": false,
     "input": [],
     "language": "python",
     "metadata": {},
     "outputs": [],
     "prompt_number": 9
    },
    {
     "cell_type": "code",
     "collapsed": false,
     "input": [],
     "language": "python",
     "metadata": {},
     "outputs": [
      {
       "ename": "NameError",
       "evalue": "name 'bin_n' is not defined",
       "output_type": "pyerr",
       "traceback": [
        "\u001b[0;31m---------------------------------------------------------------------------\u001b[0m\n\u001b[0;31mNameError\u001b[0m                                 Traceback (most recent call last)",
        "\u001b[0;32m<ipython-input-37-cf334b54e18f>\u001b[0m in \u001b[0;36m<module>\u001b[0;34m()\u001b[0m\n\u001b[1;32m      1\u001b[0m \u001b[0mdihedral_id1\u001b[0m\u001b[0;34m=\u001b[0m\u001b[0mnumpy\u001b[0m\u001b[0;34m.\u001b[0m\u001b[0mrandom\u001b[0m\u001b[0;34m.\u001b[0m\u001b[0mstandard_normal\u001b[0m\u001b[0;34m(\u001b[0m\u001b[0mN\u001b[0m\u001b[0;34m)\u001b[0m\u001b[0;34m\u001b[0m\u001b[0m\n\u001b[1;32m      2\u001b[0m \u001b[0mdihedral_id2\u001b[0m\u001b[0;34m=\u001b[0m\u001b[0mnumpy\u001b[0m\u001b[0;34m.\u001b[0m\u001b[0mrandom\u001b[0m\u001b[0;34m.\u001b[0m\u001b[0mstandard_normal\u001b[0m\u001b[0;34m(\u001b[0m\u001b[0mN\u001b[0m\u001b[0;34m)\u001b[0m\u001b[0;34m\u001b[0m\u001b[0m\n\u001b[0;32m----> 3\u001b[0;31m \u001b[0;34m(\u001b[0m\u001b[0mjoint_pdf_bin_count\u001b[0m\u001b[0;34m,\u001b[0m\u001b[0mid1_bin_edges\u001b[0m\u001b[0;34m,\u001b[0m\u001b[0mid2_bin_edges\u001b[0m\u001b[0;34m)\u001b[0m \u001b[0;34m=\u001b[0m \u001b[0mnumpy\u001b[0m\u001b[0;34m.\u001b[0m\u001b[0mhistogram2d\u001b[0m\u001b[0;34m(\u001b[0m\u001b[0mdihedral_id1\u001b[0m\u001b[0;34m[\u001b[0m\u001b[0;34m:\u001b[0m\u001b[0mlen\u001b[0m\u001b[0;34m(\u001b[0m\u001b[0mdihedral_id1\u001b[0m\u001b[0;34m)\u001b[0m\u001b[0;34m]\u001b[0m\u001b[0;34m,\u001b[0m\u001b[0mdihedral_id2\u001b[0m\u001b[0;34m,\u001b[0m\u001b[0mbins\u001b[0m\u001b[0;34m=\u001b[0m\u001b[0mbin_n\u001b[0m\u001b[0;34m,\u001b[0m\u001b[0mrange\u001b[0m\u001b[0;34m=\u001b[0m\u001b[0;34m[\u001b[0m\u001b[0mres_id1_range\u001b[0m\u001b[0;34m,\u001b[0m \u001b[0mres_id2_range\u001b[0m\u001b[0;34m]\u001b[0m\u001b[0;34m,\u001b[0m\u001b[0mnormed\u001b[0m\u001b[0;34m=\u001b[0m\u001b[0mFalse\u001b[0m\u001b[0;34m)\u001b[0m\u001b[0;34m\u001b[0m\u001b[0m\n\u001b[0m\u001b[1;32m      4\u001b[0m \u001b[0mdihedral_id1_count\u001b[0m\u001b[0;34m=\u001b[0m\u001b[0mnumpy\u001b[0m\u001b[0;34m.\u001b[0m\u001b[0msum\u001b[0m\u001b[0;34m(\u001b[0m\u001b[0mjoint_pdf_bin_count\u001b[0m\u001b[0;34m,\u001b[0m\u001b[0maxis\u001b[0m\u001b[0;34m=\u001b[0m\u001b[0;36m0\u001b[0m\u001b[0;34m)\u001b[0m\u001b[0;34m\u001b[0m\u001b[0m\n\u001b[1;32m      5\u001b[0m \u001b[0mdihedral_id2_count\u001b[0m\u001b[0;34m=\u001b[0m\u001b[0mnumpy\u001b[0m\u001b[0;34m.\u001b[0m\u001b[0msum\u001b[0m\u001b[0;34m(\u001b[0m\u001b[0mjoint_pdf_bin_count\u001b[0m\u001b[0;34m,\u001b[0m\u001b[0maxis\u001b[0m\u001b[0;34m=\u001b[0m\u001b[0;36m1\u001b[0m\u001b[0;34m)\u001b[0m\u001b[0;34m\u001b[0m\u001b[0m\n",
        "\u001b[0;31mNameError\u001b[0m: name 'bin_n' is not defined"
       ]
      }
     ],
     "prompt_number": 37
    },
    {
     "cell_type": "code",
     "collapsed": false,
     "input": [
      "a=np.array([[1,2],[3,4]])\n",
      "print a[1][1]\n",
      "print a.shape"
     ],
     "language": "python",
     "metadata": {},
     "outputs": [
      {
       "output_type": "stream",
       "stream": "stdout",
       "text": [
        "4\n",
        "(2, 2)\n"
       ]
      }
     ],
     "prompt_number": 274
    },
    {
     "cell_type": "code",
     "collapsed": false,
     "input": [],
     "language": "python",
     "metadata": {},
     "outputs": [],
     "prompt_number": 229
    },
    {
     "cell_type": "code",
     "collapsed": false,
     "input": [],
     "language": "python",
     "metadata": {},
     "outputs": []
    }
   ],
   "metadata": {}
  }
 ]
}